{
 "cells": [
  {
   "cell_type": "code",
   "execution_count": 4,
   "id": "68ba2c0b",
   "metadata": {},
   "outputs": [],
   "source": [
    "import pandas as pd\n",
    "import numpy as np\n",
    "import matplotlib.pyplot as plt\n",
    "import seaborn as sns"
   ]
  },
  {
   "cell_type": "code",
   "execution_count": 5,
   "id": "f03eb41d",
   "metadata": {},
   "outputs": [],
   "source": [
    "from re import search"
   ]
  },
  {
   "cell_type": "code",
   "execution_count": 18,
   "id": "185b8f4c",
   "metadata": {},
   "outputs": [],
   "source": [
    "df=pd.read_csv(\"./glassdoor_jobs.csv\")"
   ]
  },
  {
   "cell_type": "code",
   "execution_count": 19,
   "id": "56e49f0c",
   "metadata": {},
   "outputs": [],
   "source": [
    "def condition(sub,string):\n",
    "    if search(sub,string):\n",
    "        return False\n",
    "    else:\n",
    "        return True"
   ]
  },
  {
   "cell_type": "code",
   "execution_count": 20,
   "id": "0914f5b4",
   "metadata": {},
   "outputs": [
    {
     "data": {
      "text/plain": [
       "False"
      ]
     },
     "execution_count": 20,
     "metadata": {},
     "output_type": "execute_result"
    }
   ],
   "source": [
    "condition('mahmoud','mahmoud wnet to ')"
   ]
  },
  {
   "cell_type": "code",
   "execution_count": 21,
   "id": "8c5b5174",
   "metadata": {},
   "outputs": [],
   "source": [
    "df=df[df['Salary Estimate'].apply(lambda x:condition('Per Hour',x))]"
   ]
  },
  {
   "cell_type": "code",
   "execution_count": 26,
   "id": "d1fe4467",
   "metadata": {},
   "outputs": [
    {
     "name": "stdout",
     "output_type": "stream",
     "text": [
      "<class 'pandas.core.frame.DataFrame'>\n",
      "Int64Index: 718 entries, 0 to 955\n",
      "Data columns (total 15 columns):\n",
      " #   Column             Non-Null Count  Dtype  \n",
      "---  ------             --------------  -----  \n",
      " 0   Unnamed: 0         718 non-null    int64  \n",
      " 1   Job Title          718 non-null    object \n",
      " 2   Salary Estimate    718 non-null    object \n",
      " 3   Job Description    718 non-null    object \n",
      " 4   Rating             718 non-null    float64\n",
      " 5   Company Name       718 non-null    object \n",
      " 6   Location           718 non-null    object \n",
      " 7   Headquarters       718 non-null    object \n",
      " 8   Size               718 non-null    object \n",
      " 9   Founded            718 non-null    int64  \n",
      " 10  Type of ownership  718 non-null    object \n",
      " 11  Industry           718 non-null    object \n",
      " 12  Sector             718 non-null    object \n",
      " 13  Revenue            718 non-null    object \n",
      " 14  Competitors        718 non-null    object \n",
      "dtypes: float64(1), int64(2), object(12)\n",
      "memory usage: 89.8+ KB\n"
     ]
    }
   ],
   "source": [
    "df.info()"
   ]
  },
  {
   "cell_type": "code",
   "execution_count": 23,
   "id": "20f0030f",
   "metadata": {},
   "outputs": [
    {
     "data": {
      "text/plain": [
       "-1                              214\n",
       "$49K-$113K (Glassdoor est.)       6\n",
       "$86K-$143K (Glassdoor est.)       6\n",
       "$54K-$115K (Glassdoor est.)       6\n",
       "$81K-$167K (Glassdoor est.)       5\n",
       "                               ... \n",
       "$61K-$123K (Glassdoor est.)       1\n",
       "$105K-$173K (Glassdoor est.)      1\n",
       "$40K-$73K (Glassdoor est.)        1\n",
       "$76K-$125K (Glassdoor est.)       1\n",
       "$70K-$122K (Glassdoor est.)       1\n",
       "Name: Salary Estimate, Length: 408, dtype: int64"
      ]
     },
     "execution_count": 23,
     "metadata": {},
     "output_type": "execute_result"
    }
   ],
   "source": [
    "df['Salary Estimate'].value_counts()"
   ]
  },
  {
   "cell_type": "code",
   "execution_count": 24,
   "id": "8f3de83e",
   "metadata": {},
   "outputs": [],
   "source": [
    "df=df[df['Salary Estimate'] !='-1']"
   ]
  },
  {
   "cell_type": "code",
   "execution_count": 25,
   "id": "6cb4ad91",
   "metadata": {},
   "outputs": [
    {
     "data": {
      "text/plain": [
       "$54K-$115K (Glassdoor est.)     6\n",
       "$49K-$113K (Glassdoor est.)     6\n",
       "$86K-$143K (Glassdoor est.)     6\n",
       "$74K-$124K (Glassdoor est.)     5\n",
       "$107K-$173K (Glassdoor est.)    5\n",
       "                               ..\n",
       "$61K-$123K (Glassdoor est.)     1\n",
       "$105K-$173K (Glassdoor est.)    1\n",
       "$40K-$73K (Glassdoor est.)      1\n",
       "$76K-$125K (Glassdoor est.)     1\n",
       "$70K-$122K (Glassdoor est.)     1\n",
       "Name: Salary Estimate, Length: 407, dtype: int64"
      ]
     },
     "execution_count": 25,
     "metadata": {},
     "output_type": "execute_result"
    }
   ],
   "source": [
    "df['Salary Estimate'].value_counts()"
   ]
  },
  {
   "cell_type": "code",
   "execution_count": 60,
   "id": "1434a56d",
   "metadata": {},
   "outputs": [],
   "source": [
    "def salary_estimate(data):\n",
    "    data=data.replace('$','')\n",
    "    data=data.replace('K','')\n",
    "    data=data.replace('(Glassdoor est.)','')\n",
    "    \n",
    "    "
   ]
  },
  {
   "cell_type": "code",
   "execution_count": 61,
   "id": "d0f00b60",
   "metadata": {},
   "outputs": [],
   "source": [
    "x=df['Salary Estimate'][0]"
   ]
  },
  {
   "cell_type": "code",
   "execution_count": 53,
   "id": "611b983a",
   "metadata": {},
   "outputs": [],
   "source": [
    "x=x.replace('$','')"
   ]
  },
  {
   "cell_type": "code",
   "execution_count": 55,
   "id": "53456913",
   "metadata": {},
   "outputs": [],
   "source": [
    "x=x.replace('K','')"
   ]
  },
  {
   "cell_type": "code",
   "execution_count": 56,
   "id": "fadc9fa2",
   "metadata": {},
   "outputs": [
    {
     "data": {
      "text/plain": [
       "'53-91 (Glassdoor est.)'"
      ]
     },
     "execution_count": 56,
     "metadata": {},
     "output_type": "execute_result"
    }
   ],
   "source": [
    "x"
   ]
  },
  {
   "cell_type": "code",
   "execution_count": 57,
   "id": "7054ba19",
   "metadata": {},
   "outputs": [],
   "source": [
    "x=x.replace('(Glassdoor est.)','')"
   ]
  },
  {
   "cell_type": "code",
   "execution_count": 58,
   "id": "ee93cb3a",
   "metadata": {},
   "outputs": [
    {
     "data": {
      "text/plain": [
       "'53-91 '"
      ]
     },
     "execution_count": 58,
     "metadata": {},
     "output_type": "execute_result"
    }
   ],
   "source": [
    "x"
   ]
  },
  {
   "cell_type": "code",
   "execution_count": null,
   "id": "e39bc5ed",
   "metadata": {},
   "outputs": [],
   "source": []
  }
 ],
 "metadata": {
  "kernelspec": {
   "display_name": "Python 3 (ipykernel)",
   "language": "python",
   "name": "python3"
  },
  "language_info": {
   "codemirror_mode": {
    "name": "ipython",
    "version": 3
   },
   "file_extension": ".py",
   "mimetype": "text/x-python",
   "name": "python",
   "nbconvert_exporter": "python",
   "pygments_lexer": "ipython3",
   "version": "3.9.0"
  }
 },
 "nbformat": 4,
 "nbformat_minor": 5
}
